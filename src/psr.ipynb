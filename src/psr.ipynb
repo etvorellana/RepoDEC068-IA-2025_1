{
 "cells": [
  {
   "cell_type": "code",
   "execution_count": 1,
   "id": "2dc546ee",
   "metadata": {},
   "outputs": [],
   "source": [
    "# carregando os pacotes\n",
    "import numpy as np\n"
   ]
  },
  {
   "cell_type": "code",
   "execution_count": 2,
   "id": "3b3ee6fa",
   "metadata": {},
   "outputs": [],
   "source": [
    "# definindo as variáveis\n",
    "V = np.zeros(81)\n",
    "# São 81 variáveis, as células de um quadrado de 9 po 9\n",
    "# Cada variável tem como diomínio inicial os valores entre 1 e 9\n",
    "Di = [i for i in range(1, 10)]\n",
    "D = [Di for _ in range(81)]\n",
    "# As variáveis podem ser agrupadas, para aplicar as restrições\n",
    "# 1- Por linhas;\n",
    "# 2- Por colunas;\n",
    "# 3- Por quadrados de 3 por 3;\n",
    "def difAll_Row(index, var):\n",
    "    \"\"\"\n",
    "    Verifica se todos os elementos da linha row são diferentes\n",
    "    :param linha: numero de uma linha do Sudoku\n",
    "    :param var: lista de variáveis do Sudoku na forma de um array \n",
    "    organizado por linhas\n",
    "    :return:  True se todos os elementos forem diferentes, \n",
    "              False caso contrário\n",
    "              obs, não são considerados os zeros\n",
    "    \"\"\"\n",
    "    row = index // 9 # calcula a linha correspondente ao índice\n",
    "    # calcula o início e o fim da linha no array\n",
    "    start = row * 9\n",
    "    end = start + 9\n",
    "    # extrai os valores da linha\n",
    "    row_values = var[start:end]\n",
    "    # converte os valores em um conjunto para verificar unicidade\n",
    "    # e ignora os zeros\n",
    "    unique_values = set(row_values) - {0}\n",
    "    # verifica se o número de valores únicos é igual ao número de \n",
    "    # valores não nulos\n",
    "    return len(unique_values) == len([v for v in row_values if v != 0])\n",
    "\n",
    "def difAll_Col(index, var):\n",
    "    \"\"\"\n",
    "    Verifica se todos os elementos da coluna col são diferentes\n",
    "    :param col: numero de uma coluna do Sudoku\n",
    "    :param var: lista de variáveis do Sudoku na forma de um array \n",
    "    organizado por linhas\n",
    "    :return:  True se todos os elementos forem diferentes, \n",
    "              False caso contrário\n",
    "              obs, não são considerados os zeros\n",
    "    \"\"\"\n",
    "    col = index % 9 # calcula a coluna correspondente ao índice\n",
    "    # extrai os valores da coluna\n",
    "    col_values = var[col::9]\n",
    "    # converte os valores em um conjunto para verificar unicidade\n",
    "    # e ignora os zeros\n",
    "    unique_values = set(col_values) - {0}\n",
    "    # verifica se o número de valores únicos é igual ao número de \n",
    "    # valores não nulos\n",
    "    return len(unique_values) == len([v for v in col_values if v != 0])\n",
    "\n",
    "def difAll_Square(index, var):\n",
    "    \"\"\"\n",
    "    Verifica se todos os elementos do quadrado 3x3 são diferentes\n",
    "    :param index: índice do quadrado 3x3 no Sudoku onde o índice varia de 0 a 8\n",
    "    onde o 0 corresponde ao quadrado superior esquerdo e o 8 ao quadrado\n",
    "    inferior direito\n",
    "    :param var: lista de variáveis do Sudoku na forma de um array \n",
    "    organizado por linhas\n",
    "    :return:  True se todos os elementos forem diferentes, \n",
    "              False caso contrário\n",
    "              obs, não são considerados os zeros\n",
    "    \"\"\"\n",
    "    # calcula a linha e a coluna do quadrado 3x3\n",
    "    row = (index // 3) * 3\n",
    "    col = (index % 3) * 3\n",
    "    # extrai os valores do quadrado 3x3\n",
    "    #square_values = []\n",
    "    #for i in range(3):\n",
    "    #    for j in range(3):\n",
    "    #        square_values.append(var[(row + i)*3 + col + j])\n",
    "    square_values = [var[(row + i)*9 + col + j] for i in range(3) for j in range(3)]\n",
    "    # converte os valores em um conjunto para verificar unicidade\n",
    "    # e ignora os zeros\n",
    "    #print(square_values)\n",
    "    unique_values = set(square_values) - {0}\n",
    "    #print(unique_values)\n",
    "    all_values = [v for v in square_values if v != 0]\n",
    "    #print(all_values)\n",
    "    # verifica se o número de valores únicos é igual ao número de \n",
    "    # valores não nulos\n",
    "    return len(unique_values) == len(all_values)\n",
    "    \n",
    "def difAll(var):\n",
    "    \"\"\"\n",
    "    Verifica se todos os elementos do Sudoku são diferentes\n",
    "    :param var: lista de variáveis do Sudoku na forma de um array \n",
    "    organizado por linhas\n",
    "    :return:  True se todos os elementos forem diferentes, \n",
    "              False caso contrário\n",
    "              obs, não são considerados os zeros\n",
    "    \"\"\"\n",
    "    # verifica as linhas\n",
    "    for i in range(9):\n",
    "        if not difAll_Row(i, var):\n",
    "            return False\n",
    "    # verifica as colunas\n",
    "    for i in range(9):\n",
    "        if not difAll_Col(i, var):\n",
    "            return False\n",
    "    # verifica os quadrados 3x3\n",
    "    for i in range(9):\n",
    "        if not difAll_Square(i, var):\n",
    "            return False\n",
    "    return True\n",
    "\n",
    "\n",
    "\n"
   ]
  },
  {
   "cell_type": "code",
   "execution_count": 3,
   "id": "122ce792",
   "metadata": {},
   "outputs": [],
   "source": [
    "# inicializando o Sudoku\n",
    "def initSudoku():\n",
    "    \"\"\"\n",
    "    Inicializa o Sudoku com um exemplo\n",
    "    :return: lista de variáveis do Sudoku na forma de um array \n",
    "    organizado por linhas\n",
    "    \"\"\"\n",
    "    # Exemplo de Sudoku inicializado\n",
    "    sudoku = [\n",
    "        5, 3, 0, 0, 7, 0, 0, 0, 0,\n",
    "        6, 0, 0, 1, 9, 5, 0, 0, 0,\n",
    "        0, 9, 8, 0, 0, 0, 0, 6, 0,\n",
    "        8, 0, 0, 0, 6, 0, 0, 0, 3,\n",
    "        4, 0, 0, 8, 0, 3, 0, 0, 1,\n",
    "        7, 0, 0, 0, 2, 0, 0, 8, 0,\n",
    "        0, 6, 0, 0, 0, 2, 0, 4, 7,\n",
    "        2, 8, 7, 4, 1, 9, 6, 3 ,5,\n",
    "        3, 0, 0, 6, 0, 0, 0, 0, 0\n",
    "    ]\n",
    "    return sudoku\n",
    "def printSudoku(var):\n",
    "    \"\"\"\n",
    "    Imprime o Sudoku na forma de um array organizado por linhas\n",
    "    :param var: lista de variáveis do Sudoku na forma de um array\n",
    "    organizado por linhas\n",
    "    \"\"\"\n",
    "    for i in range(9):\n",
    "        row = var[i * 9:(i + 1) * 9]\n",
    "        print(\" \".join(str(x) if x != 0 else '.' for x in row))\n",
    "    print()  # Linha em branco após o Sudoku\n",
    "\n"
   ]
  },
  {
   "cell_type": "code",
   "execution_count": 4,
   "id": "22289376",
   "metadata": {},
   "outputs": [
    {
     "name": "stdout",
     "output_type": "stream",
     "text": [
      "Sudoku Inicial:\n",
      "5 3 . . 7 . . . .\n",
      "6 . . 1 9 5 . . .\n",
      ". 9 8 . . . . 6 .\n",
      "8 . . . 6 . . . 3\n",
      "4 . . 8 . 3 . . 1\n",
      "7 . . . 2 . . 8 .\n",
      ". 6 . . . 2 . 4 7\n",
      "2 8 7 4 1 9 6 3 5\n",
      "3 . . 6 . . . . .\n",
      "\n"
     ]
    }
   ],
   "source": [
    "sudoku = np.array(initSudoku())\n",
    "print(\"Sudoku Inicial:\")\n",
    "printSudoku(sudoku)"
   ]
  },
  {
   "cell_type": "code",
   "execution_count": 5,
   "id": "a453de6f",
   "metadata": {},
   "outputs": [
    {
     "name": "stdout",
     "output_type": "stream",
     "text": [
      "True\n",
      "True\n",
      "True\n"
     ]
    }
   ],
   "source": [
    "print(difAll_Row(7,sudoku))\n",
    "print(difAll_Col(7,sudoku))\n",
    "print(difAll_Square(7,sudoku))"
   ]
  },
  {
   "cell_type": "code",
   "execution_count": 6,
   "id": "4bf7e541",
   "metadata": {},
   "outputs": [
    {
     "name": "stdout",
     "output_type": "stream",
     "text": [
      "Sudoku Inicial:\n",
      "5 3 . . 7 . . . .\n",
      "6 . . 1 9 5 . . .\n",
      ". 9 8 . . . . 6 .\n",
      "8 . . . 6 . . . 3\n",
      "4 . . 8 . 3 . . 1\n",
      "7 . . . 2 . . 8 .\n",
      ". 6 . . . 2 . 4 7\n",
      "2 8 7 4 1 9 6 3 5\n",
      "3 . . 6 . . . . .\n",
      "\n",
      "O Sudoku inicial atende às restrições.\n"
     ]
    }
   ],
   "source": [
    "# Testando a função de inicialização e impressão do Sudoku\n",
    "if __name__ == \"__main__\":\n",
    "    sudoku = np.array(initSudoku())\n",
    "    print(\"Sudoku Inicial:\")\n",
    "    printSudoku(sudoku)\n",
    "    \n",
    "    # Verificando se o Sudoku inicial atende às restrições\n",
    "    if difAll(sudoku):\n",
    "        print(\"O Sudoku inicial atende às restrições.\")\n",
    "    else:\n",
    "        print(\"O Sudoku inicial não atende às restrições.\")"
   ]
  },
  {
   "cell_type": "code",
   "execution_count": null,
   "id": "59fef06d",
   "metadata": {},
   "outputs": [],
   "source": [
    "# Ajustando os domínios iniciais\n",
    "def initDomain(var, dom):\n",
    "    for i in range(81):\n",
    "        if var[i] != 0:\n",
    "            row = i//9\n",
    "            col = i%9\n",
    "            sRow = row//3\n",
    "            sCol = col//3\n",
    "            sqr = sRow*3 + sCol\n",
    "            for j in range(9):\n",
    "                if row + j == i:\n",
    "                    dom[i] = [var[i]]\n",
    "                    continue\n",
    "                if var[i] in dom[row+j]:\n",
    "                    dom[row+j].remove(var[i])\n",
    "            \n"
   ]
  },
  {
   "cell_type": "code",
   "execution_count": 9,
   "id": "12348072",
   "metadata": {},
   "outputs": [
    {
     "name": "stdout",
     "output_type": "stream",
     "text": [
      "[1, 3, 4, 5, 6, 7, 8]\n"
     ]
    }
   ],
   "source": [
    "L = [1,2,3,4,5,6,7,8]\n",
    "L.remove(2)\n",
    "print(L)\n",
    "if (2 in L):\n",
    "    L.remove(2)"
   ]
  }
 ],
 "metadata": {
  "kernelspec": {
   "display_name": "cet068IA",
   "language": "python",
   "name": "python3"
  },
  "language_info": {
   "codemirror_mode": {
    "name": "ipython",
    "version": 3
   },
   "file_extension": ".py",
   "mimetype": "text/x-python",
   "name": "python",
   "nbconvert_exporter": "python",
   "pygments_lexer": "ipython3",
   "version": "3.10.14"
  }
 },
 "nbformat": 4,
 "nbformat_minor": 5
}
