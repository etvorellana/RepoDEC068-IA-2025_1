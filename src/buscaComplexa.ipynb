{
 "cells": [
  {
   "cell_type": "markdown",
   "id": "e41dba7d",
   "metadata": {},
   "source": [
    "# Busca"
   ]
  },
  {
   "cell_type": "code",
   "execution_count": 1,
   "id": "6e76424e",
   "metadata": {},
   "outputs": [],
   "source": [
    "import numpy as np"
   ]
  },
  {
   "cell_type": "code",
   "execution_count": 3,
   "id": "5ec9e300",
   "metadata": {},
   "outputs": [
    {
     "name": "stdout",
     "output_type": "stream",
     "text": [
      "Estado inicial:  [1 2 2 1 6 3 6 8]\n",
      "In column  1  there is a queen in row  1\n",
      "In column  2  there is a queen in row  2\n",
      "In column  3  there is a queen in row  2\n",
      "In column  4  there is a queen in row  1\n",
      "In column  5  there is a queen in row  6\n",
      "In column  6  there is a queen in row  3\n",
      "In column  7  there is a queen in row  6\n",
      "In column  8  there is a queen in row  8\n"
     ]
    }
   ],
   "source": [
    "# Gera um estado inicial aleatório para o problema das 8-rainhas\n",
    "# O estado é representado por um vetor de 8 posições, onde cada posição\n",
    "# representa uma coluna e o valor da posição representa a linha onde\n",
    "# a rainha está posicionada. O valor deve ser entre 1 e 8, pois\n",
    "# existem 8 linhas e 8 colunas no tabuleiro de xadrez.\n",
    "state = np.random.randint(1, 9, 8)\n",
    "\n",
    "\n",
    "# A função stateShow imprime o estado atual do tabuleiro\n",
    "# de xadrez, mostrando em qual coluna e linha cada rainha está posicionada.\n",
    "def stateShow(state):\n",
    "    for i, queen in enumerate(state):\n",
    "        print(\"In column \", i+1, \" there is a queen in row \", queen)\n",
    "\n",
    "print(\"Estado inicial: \", state)\n",
    "stateShow(state)"
   ]
  },
  {
   "cell_type": "code",
   "execution_count": 4,
   "id": "c6d74f41",
   "metadata": {},
   "outputs": [
    {
     "name": "stdout",
     "output_type": "stream",
     "text": [
      "Estados vizinhos:  56\n"
     ]
    }
   ],
   "source": [
    "# A função next_state gera todos os estados vizinhos do estado atual.\n",
    "# Um estado vizinho é gerado mudando a posição de uma rainha\n",
    "# em uma coluna, ou seja, mudando o valor de uma posição do vetor\n",
    "# state para um valor diferente entre 1 e 8.\n",
    "# Isso é feito para cada coluna do tabuleiro.\n",
    "# A função retorna uma lista com todos os estados vizinhos gerados.\n",
    "def next_state(state):\n",
    "    next_states = []\n",
    "    for i in range(8):\n",
    "        for j in range(1, 9):\n",
    "            if j != state[i]:\n",
    "                next_state = state.copy()\n",
    "                next_state[i] = j\n",
    "                next_states.append(next_state)\n",
    "    return next_states\n",
    "# Gera os estados vizinhos do estado atual\n",
    "next_states = next_state(state)\n",
    "print(\"Estados vizinhos: \", len(next_states))"
   ]
  },
  {
   "cell_type": "code",
   "execution_count": 5,
   "id": "48ceef77",
   "metadata": {},
   "outputs": [
    {
     "name": "stdout",
     "output_type": "stream",
     "text": [
      "Heurística do estado inicial:  9\n"
     ]
    }
   ],
   "source": [
    "# A eight_queens_heuristic calcula a heurística do estado atual.\n",
    "# A heurística é calculada contando o número de pares de rainhas\n",
    "# que estão se atacando. Para isso, percorremos todas as rainhas\n",
    "# e verificamos se elas estão na mesma linha ou na mesma diagonal.\n",
    "# Se estiverem, incrementamos a variável h.\n",
    "# A função retorna o valor da heurística.\n",
    "def eight_queens_heuristic(state):\n",
    "    h = 0\n",
    "    for i in range(8):\n",
    "        for j in range(i+1, 8):\n",
    "            if state[i] == state[j]:\n",
    "                h += 1\n",
    "                continue\n",
    "            if state[i] == state[j] + (j - i):\n",
    "                h += 1\n",
    "                continue\n",
    "            if state[i] == state[j] - (j - i):\n",
    "                h += 1\n",
    "    return h\n",
    "\n",
    "print(\"Heurística do estado inicial: \", eight_queens_heuristic(state))"
   ]
  },
  {
   "cell_type": "code",
   "execution_count": 6,
   "id": "f18c3884",
   "metadata": {},
   "outputs": [],
   "source": [
    "'''\n",
    "Esta função foi implementada especificamente para o problema das 8 rainhas.\n",
    "Esta função e as próximas retornam uma tupla contendo a solução e o número \n",
    "de passos. \n",
    "'''\n",
    "def hill_climbing(state):\n",
    "    current = state\n",
    "    step = 0\n",
    "    while True:\n",
    "        step += 1\n",
    "        neighbors = sorted(next_state(current), key = lambda x:eight_queens_heuristic(x))\n",
    "        best_neighbor = neighbors[0]\n",
    "        best_neighbor_h = eight_queens_heuristic(best_neighbor)\n",
    "        if best_neighbor_h >= eight_queens_heuristic(current):\n",
    "            return current, step\n",
    "        current = best_neighbor"
   ]
  },
  {
   "cell_type": "code",
   "execution_count": 12,
   "id": "9afb5d84",
   "metadata": {},
   "outputs": [],
   "source": [
    "def hill_climbing_width_lateral(state, max_steps = 10):\n",
    "    current = state\n",
    "    current_h = eight_queens_heuristic(current)\n",
    "    step = 0\n",
    "    latStep = 0\n",
    "    while True:\n",
    "        step += 1\n",
    "        neighbors = sorted(next_state(current), key = lambda x:eight_queens_heuristic(x))\n",
    "        best_neighbor = neighbors[0]\n",
    "        best_neighbor_h = eight_queens_heuristic(best_neighbor)\n",
    "        if best_neighbor_h >= current_h:\n",
    "            if latStep == max_steps:\n",
    "                return current, step\n",
    "            best_neighbor = neighbors[np.random.randint(0, len(neighbors))]\n",
    "            latStep += 1\n",
    "        else:\n",
    "            latStep = 0\n",
    "        current = best_neighbor\n",
    "        current_h = best_neighbor_h\n",
    "        if current_h == 0:  # isto se aplica apenas a este problema específico\n",
    "            return current, step\n",
    "    "
   ]
  },
  {
   "cell_type": "code",
   "execution_count": 15,
   "id": "1cfb2e8e",
   "metadata": {},
   "outputs": [],
   "source": [
    "def random_restart_hill_climbing(state):\n",
    "    current = state\n",
    "    step = 0\n",
    "    while True:\n",
    "        step += 1\n",
    "        solution, steps = hill_climbing(current)\n",
    "        if eight_queens_heuristic(solution) == 0:\n",
    "            return solution, step\n",
    "        current = np.random.randint(1, 9, 8)"
   ]
  },
  {
   "cell_type": "code",
   "execution_count": 7,
   "id": "e4ba37bc",
   "metadata": {},
   "outputs": [
    {
     "name": "stdout",
     "output_type": "stream",
     "text": [
      "Solução:  [5 2 4 1 7 3 6 8]  com heurística:  2 em  4  passos\n",
      "In column  1  there is a queen in row  5\n",
      "In column  2  there is a queen in row  2\n",
      "In column  3  there is a queen in row  4\n",
      "In column  4  there is a queen in row  1\n",
      "In column  5  there is a queen in row  7\n",
      "In column  6  there is a queen in row  3\n",
      "In column  7  there is a queen in row  6\n",
      "In column  8  there is a queen in row  8\n"
     ]
    }
   ],
   "source": [
    "solution, steps = hill_climbing(state)\n",
    "print(\"Solução: \", solution, \" com heurística: \", eight_queens_heuristic(solution), \"em \", steps, \" passos\") \n",
    "stateShow(solution)"
   ]
  },
  {
   "cell_type": "code",
   "execution_count": 9,
   "id": "03a183cc",
   "metadata": {},
   "outputs": [
    {
     "name": "stdout",
     "output_type": "stream",
     "text": [
      "Soluções encontradas:  160  em média em  5.025  passos\n",
      "Falhas:  840  em média em  4.088095238095238  passos\n"
     ]
    }
   ],
   "source": [
    "qRes = 0\n",
    "qFail = 0\n",
    "stepsRes = 0\n",
    "stepsFail = 0\n",
    "for i in range(1000):\n",
    "    state = np.random.randint(1, 9, 8)\n",
    "    solution, steps = hill_climbing(state)\n",
    "    if eight_queens_heuristic(solution) == 0:\n",
    "        qRes += 1\n",
    "        stepsRes += steps\n",
    "    else:\n",
    "        qFail += 1\n",
    "        stepsFail += steps\n",
    "print(\"Soluções encontradas: \", qRes, \" em média em \", stepsRes/qRes, \" passos\")\n",
    "print(\"Falhas: \", qFail, \" em média em \", stepsFail/qFail, \" passos\")"
   ]
  },
  {
   "cell_type": "code",
   "execution_count": 14,
   "id": "ea73c9aa",
   "metadata": {},
   "outputs": [
    {
     "name": "stdout",
     "output_type": "stream",
     "text": [
      "Soluções encontradas:  817  em média em  43.916768665850675  passos\n",
      "Falhas:  183  em média em  56.0655737704918  passos\n"
     ]
    }
   ],
   "source": [
    "qRes = 0\n",
    "qFail = 0\n",
    "stepsRes = 0\n",
    "stepsFail = 0\n",
    "for i in range(1000):\n",
    "    state = np.random.randint(1, 9, 8)\n",
    "    solution, steps = hill_climbing_width_lateral(state)\n",
    "    if eight_queens_heuristic(solution) == 0:\n",
    "        qRes += 1\n",
    "        stepsRes += steps\n",
    "    else:\n",
    "        qFail += 1\n",
    "        stepsFail += steps\n",
    "if qRes > 0:\n",
    "    print(\"Soluções encontradas: \", qRes, \" em média em \", stepsRes/qRes, \" passos\")\n",
    "if qFail > 0:\n",
    "    print(\"Falhas: \", qFail, \" em média em \", stepsFail/qFail, \" passos\")"
   ]
  },
  {
   "cell_type": "code",
   "execution_count": 13,
   "id": "134d6ab3",
   "metadata": {},
   "outputs": [
    {
     "name": "stdout",
     "output_type": "stream",
     "text": [
      "Solução:  [5 7 4 1 3 8 6 2]  com heurística:  0 em  63  passos\n",
      "In column  1  there is a queen in row  5\n",
      "In column  2  there is a queen in row  7\n",
      "In column  3  there is a queen in row  4\n",
      "In column  4  there is a queen in row  1\n",
      "In column  5  there is a queen in row  3\n",
      "In column  6  there is a queen in row  8\n",
      "In column  7  there is a queen in row  6\n",
      "In column  8  there is a queen in row  2\n"
     ]
    }
   ],
   "source": [
    "solution, steps = hill_climbing_width_lateral(state)\n",
    "print(\"Solução: \", solution, \" com heurística: \", eight_queens_heuristic(solution), \"em \", steps, \" passos\") \n",
    "stateShow(solution)"
   ]
  },
  {
   "cell_type": "code",
   "execution_count": 18,
   "id": "0e3b5b5b",
   "metadata": {},
   "outputs": [
    {
     "name": "stdout",
     "output_type": "stream",
     "text": [
      "Solução:  [6 3 7 2 8 5 1 4]  com heurística:  0 em  14  passos\n",
      "In column  1  there is a queen in row  6\n",
      "In column  2  there is a queen in row  3\n",
      "In column  3  there is a queen in row  7\n",
      "In column  4  there is a queen in row  2\n",
      "In column  5  there is a queen in row  8\n",
      "In column  6  there is a queen in row  5\n",
      "In column  7  there is a queen in row  1\n",
      "In column  8  there is a queen in row  4\n"
     ]
    }
   ],
   "source": [
    "solution, steps = random_restart_hill_climbing(state)\n",
    "print(\"Solução: \", solution, \" com heurística: \", eight_queens_heuristic(solution), \"em \", steps, \" passos\") \n",
    "stateShow(solution)"
   ]
  },
  {
   "cell_type": "code",
   "execution_count": null,
   "id": "25cda433",
   "metadata": {},
   "outputs": [],
   "source": [
    "qRes = 0\n",
    "qFail = 0\n",
    "stepsRes = 0\n",
    "stepsFail = 0\n",
    "for i in range(1000):\n",
    "    state = np.random.randint(1, 9, 8)\n",
    "    solution, steps = random_restart_hill_climbing(state)\n",
    "    if eight_queens_heuristic(solution) == 0:\n",
    "        qRes += 1\n",
    "        stepsRes += steps\n",
    "    else:\n",
    "        qFail += 1\n",
    "        stepsFail += steps\n",
    "if qRes > 0:\n",
    "    print(\"Soluções encontradas: \", qRes, \" em média em \", stepsRes/qRes, \" passos\")\n",
    "if qFail > 0:\n",
    "    print(\"Falhas: \", qFail, \" em média em \", stepsFail/qFail, \" passos\")"
   ]
  }
 ],
 "metadata": {
  "kernelspec": {
   "display_name": "cet068IA",
   "language": "python",
   "name": "python3"
  },
  "language_info": {
   "codemirror_mode": {
    "name": "ipython",
    "version": 3
   },
   "file_extension": ".py",
   "mimetype": "text/x-python",
   "name": "python",
   "nbconvert_exporter": "python",
   "pygments_lexer": "ipython3",
   "version": "3.10.14"
  }
 },
 "nbformat": 4,
 "nbformat_minor": 5
}
