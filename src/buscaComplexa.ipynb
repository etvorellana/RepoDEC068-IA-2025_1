{
 "cells": [
  {
   "cell_type": "markdown",
   "id": "e41dba7d",
   "metadata": {},
   "source": [
    "# Busca"
   ]
  },
  {
   "cell_type": "code",
   "execution_count": 1,
   "id": "6e76424e",
   "metadata": {},
   "outputs": [],
   "source": [
    "import numpy as np"
   ]
  },
  {
   "cell_type": "code",
   "execution_count": 2,
   "id": "5ec9e300",
   "metadata": {},
   "outputs": [
    {
     "name": "stdout",
     "output_type": "stream",
     "text": [
      "Estado inicial:  [2 3 8 5 1 6 2 5]\n",
      "In column  1  there is a queen in row  2\n",
      "In column  2  there is a queen in row  3\n",
      "In column  3  there is a queen in row  8\n",
      "In column  4  there is a queen in row  5\n",
      "In column  5  there is a queen in row  1\n",
      "In column  6  there is a queen in row  6\n",
      "In column  7  there is a queen in row  2\n",
      "In column  8  there is a queen in row  5\n"
     ]
    }
   ],
   "source": [
    "# Gera um estado inicial aleatório para o problema das 8-rainhas\n",
    "# O estado é representado por um vetor de 8 posições, onde cada posição\n",
    "# representa uma coluna e o valor da posição representa a linha onde\n",
    "# a rainha está posicionada. O valor deve ser entre 1 e 8, pois\n",
    "# existem 8 linhas e 8 colunas no tabuleiro de xadrez.\n",
    "state = np.random.randint(1, 9, 8)\n",
    "\n",
    "\n",
    "# A função stateShow imprime o estado atual do tabuleiro\n",
    "# de xadrez, mostrando em qual coluna e linha cada rainha está posicionada.\n",
    "def stateShow(state):\n",
    "    for i, queen in enumerate(state):\n",
    "        print(\"In column \", i+1, \" there is a queen in row \", queen)\n",
    "\n",
    "print(\"Estado inicial: \", state)\n",
    "stateShow(state)"
   ]
  },
  {
   "cell_type": "code",
   "execution_count": 3,
   "id": "c6d74f41",
   "metadata": {},
   "outputs": [
    {
     "name": "stdout",
     "output_type": "stream",
     "text": [
      "Estados vizinhos:  56\n"
     ]
    }
   ],
   "source": [
    "# A função next_state gera todos os estados vizinhos do estado atual.\n",
    "# Um estado vizinho é gerado mudando a posição de uma rainha\n",
    "# em uma coluna, ou seja, mudando o valor de uma posição do vetor\n",
    "# state para um valor diferente entre 1 e 8.\n",
    "# Isso é feito para cada coluna do tabuleiro.\n",
    "# A função retorna uma lista com todos os estados vizinhos gerados.\n",
    "def next_state(state):\n",
    "    next_states = []\n",
    "    for i in range(8):\n",
    "        for j in range(1, 9):\n",
    "            if j != state[i]:\n",
    "                next_state = state.copy()\n",
    "                next_state[i] = j\n",
    "                next_states.append(next_state)\n",
    "    return next_states\n",
    "# Gera os estados vizinhos do estado atual\n",
    "next_states = next_state(state)\n",
    "print(\"Estados vizinhos: \", len(next_states))"
   ]
  },
  {
   "cell_type": "code",
   "execution_count": 4,
   "id": "48ceef77",
   "metadata": {},
   "outputs": [
    {
     "name": "stdout",
     "output_type": "stream",
     "text": [
      "Heurística do estado inicial:  6\n"
     ]
    }
   ],
   "source": [
    "# A eight_queens_heuristic calcula a heurística do estado atual.\n",
    "# A heurística é calculada contando o número de pares de rainhas\n",
    "# que estão se atacando. Para isso, percorremos todas as rainhas\n",
    "# e verificamos se elas estão na mesma linha ou na mesma diagonal.\n",
    "# Se estiverem, incrementamos a variável h.\n",
    "# A função retorna o valor da heurística.\n",
    "def eight_queens_heuristic(state):\n",
    "    h = 0\n",
    "    for i in range(8):\n",
    "        for j in range(i+1, 8):\n",
    "            if state[i] == state[j]:\n",
    "                h += 1\n",
    "                continue\n",
    "            if state[i] == state[j] + (j - i):\n",
    "                h += 1\n",
    "                continue\n",
    "            if state[i] == state[j] - (j - i):\n",
    "                h += 1\n",
    "    return h\n",
    "\n",
    "print(\"Heurística do estado inicial: \", eight_queens_heuristic(state))"
   ]
  },
  {
   "cell_type": "code",
   "execution_count": 6,
   "id": "f18c3884",
   "metadata": {},
   "outputs": [],
   "source": [
    "'''\n",
    "Esta função foi implementada especificamente para o problema das 8 rainhas.\n",
    "Esta função e as próximas retornam uma tupla contendo a solução e o número \n",
    "de passos. \n",
    "'''\n",
    "def hill_climbing(state):\n",
    "    current = state\n",
    "    step = 0\n",
    "    while True:\n",
    "        step += 1\n",
    "        neighbors = sorted(next_state(current), key = lambda x:eight_queens_heuristic(x))\n",
    "        best_neighbor = neighbors[0]\n",
    "        best_neighbor_h = eight_queens_heuristic(best_neighbor)\n",
    "        if best_neighbor_h >= eight_queens_heuristic(current):\n",
    "            return current, step\n",
    "        current = best_neighbor"
   ]
  },
  {
   "cell_type": "code",
   "execution_count": null,
   "id": "9afb5d84",
   "metadata": {},
   "outputs": [],
   "source": [
    "def hill_climbing_width_lateral(state, max_steps = 10):\n",
    "    current = state\n",
    "    current_h = eight_queens_heuristic(current)\n",
    "    step = 0\n",
    "    latStep = 0\n",
    "    while True:\n",
    "        step += 1\n",
    "        neighbors = sorted(next_state(current), key = lambda x:eight_queens_heuristic(x))\n",
    "        best_neighbor = neighbors[0]\n",
    "        best_neighbor_h = eight_queens_heuristic(best_neighbor)\n",
    "        if best_neighbor_h >= current_h:\n",
    "            if latStep == max_steps:\n",
    "                return current, step\n",
    "            best_neighbor = neighbors[np.random.randint(0, len(neighbors))]\n",
    "            latStep += 1\n",
    "        else:\n",
    "            latStep = 0\n",
    "        current = best_neighbor\n",
    "        current_h = best_neighbor_h\n",
    "        if current_h == 0:  # isto se aplica apenas a este problema específico\n",
    "            return current, step\n",
    "    "
   ]
  },
  {
   "cell_type": "code",
   "execution_count": 8,
   "id": "e4ba37bc",
   "metadata": {},
   "outputs": [
    {
     "name": "stdout",
     "output_type": "stream",
     "text": [
      "Solução:  [7 3 8 3 1 6 2 5]  com heurística:  1 em  3  passos\n",
      "In column  1  there is a queen in row  7\n",
      "In column  2  there is a queen in row  3\n",
      "In column  3  there is a queen in row  8\n",
      "In column  4  there is a queen in row  3\n",
      "In column  5  there is a queen in row  1\n",
      "In column  6  there is a queen in row  6\n",
      "In column  7  there is a queen in row  2\n",
      "In column  8  there is a queen in row  5\n"
     ]
    }
   ],
   "source": [
    "solution, steps = hill_climbing(state)\n",
    "print(\"Solução: \", solution, \" com heurística: \", eight_queens_heuristic(solution), \"em \", steps, \" passos\") \n",
    "stateShow(solution)"
   ]
  },
  {
   "cell_type": "code",
   "execution_count": 10,
   "id": "03a183cc",
   "metadata": {},
   "outputs": [
    {
     "name": "stdout",
     "output_type": "stream",
     "text": [
      "Soluções encontradas:  165  em média em  5.054545454545455  passos\n",
      "Falhas:  835  em média em  4.117365269461078  passos\n"
     ]
    }
   ],
   "source": [
    "qRes = 0\n",
    "qFail = 0\n",
    "stepsRes = 0\n",
    "stepsFail = 0\n",
    "for i in range(1000):\n",
    "    state = np.random.randint(1, 9, 8)\n",
    "    solution, steps = hill_climbing(state)\n",
    "    if eight_queens_heuristic(solution) == 0:\n",
    "        qRes += 1\n",
    "        stepsRes += steps\n",
    "    else:\n",
    "        qFail += 1\n",
    "        stepsFail += steps\n",
    "print(\"Soluções encontradas: \", qRes, \" em média em \", stepsRes/qRes, \" passos\")\n",
    "print(\"Falhas: \", qFail, \" em média em \", stepsFail/qFail, \" passos\")"
   ]
  },
  {
   "cell_type": "code",
   "execution_count": 12,
   "id": "ea73c9aa",
   "metadata": {},
   "outputs": [
    {
     "ename": "KeyboardInterrupt",
     "evalue": "",
     "output_type": "error",
     "traceback": [
      "\u001b[0;31m---------------------------------------------------------------------------\u001b[0m",
      "\u001b[0;31mKeyboardInterrupt\u001b[0m                         Traceback (most recent call last)",
      "Cell \u001b[0;32mIn[12], line 7\u001b[0m\n\u001b[1;32m      5\u001b[0m \u001b[38;5;28;01mfor\u001b[39;00m i \u001b[38;5;129;01min\u001b[39;00m \u001b[38;5;28mrange\u001b[39m(\u001b[38;5;241m100\u001b[39m):\n\u001b[1;32m      6\u001b[0m     state \u001b[38;5;241m=\u001b[39m np\u001b[38;5;241m.\u001b[39mrandom\u001b[38;5;241m.\u001b[39mrandint(\u001b[38;5;241m1\u001b[39m, \u001b[38;5;241m9\u001b[39m, \u001b[38;5;241m8\u001b[39m)\n\u001b[0;32m----> 7\u001b[0m     solution, steps \u001b[38;5;241m=\u001b[39m \u001b[43mhill_climbing_width_lateral\u001b[49m\u001b[43m(\u001b[49m\u001b[43mstate\u001b[49m\u001b[43m,\u001b[49m\u001b[43m \u001b[49m\u001b[38;5;241;43m3\u001b[39;49m\u001b[43m)\u001b[49m\n\u001b[1;32m      8\u001b[0m     \u001b[38;5;28;01mif\u001b[39;00m eight_queens_heuristic(solution) \u001b[38;5;241m==\u001b[39m \u001b[38;5;241m0\u001b[39m:\n\u001b[1;32m      9\u001b[0m         qRes \u001b[38;5;241m+\u001b[39m\u001b[38;5;241m=\u001b[39m \u001b[38;5;241m1\u001b[39m\n",
      "Cell \u001b[0;32mIn[7], line 8\u001b[0m, in \u001b[0;36mhill_climbing_width_lateral\u001b[0;34m(state, max_steps)\u001b[0m\n\u001b[1;32m      6\u001b[0m \u001b[38;5;28;01mwhile\u001b[39;00m \u001b[38;5;28;01mTrue\u001b[39;00m:\n\u001b[1;32m      7\u001b[0m     step \u001b[38;5;241m+\u001b[39m\u001b[38;5;241m=\u001b[39m \u001b[38;5;241m1\u001b[39m\n\u001b[0;32m----> 8\u001b[0m     neighbors \u001b[38;5;241m=\u001b[39m \u001b[38;5;28;43msorted\u001b[39;49m\u001b[43m(\u001b[49m\u001b[43mnext_state\u001b[49m\u001b[43m(\u001b[49m\u001b[43mcurrent\u001b[49m\u001b[43m)\u001b[49m\u001b[43m,\u001b[49m\u001b[43m \u001b[49m\u001b[43mkey\u001b[49m\u001b[43m \u001b[49m\u001b[38;5;241;43m=\u001b[39;49m\u001b[43m \u001b[49m\u001b[38;5;28;43;01mlambda\u001b[39;49;00m\u001b[43m \u001b[49m\u001b[43mx\u001b[49m\u001b[43m:\u001b[49m\u001b[43meight_queens_heuristic\u001b[49m\u001b[43m(\u001b[49m\u001b[43mx\u001b[49m\u001b[43m)\u001b[49m\u001b[43m)\u001b[49m\n\u001b[1;32m      9\u001b[0m     best_neighbor \u001b[38;5;241m=\u001b[39m neighbors[\u001b[38;5;241m0\u001b[39m]\n\u001b[1;32m     10\u001b[0m     best_neighbor_h \u001b[38;5;241m=\u001b[39m eight_queens_heuristic(best_neighbor)\n",
      "Cell \u001b[0;32mIn[7], line 8\u001b[0m, in \u001b[0;36mhill_climbing_width_lateral.<locals>.<lambda>\u001b[0;34m(x)\u001b[0m\n\u001b[1;32m      6\u001b[0m \u001b[38;5;28;01mwhile\u001b[39;00m \u001b[38;5;28;01mTrue\u001b[39;00m:\n\u001b[1;32m      7\u001b[0m     step \u001b[38;5;241m+\u001b[39m\u001b[38;5;241m=\u001b[39m \u001b[38;5;241m1\u001b[39m\n\u001b[0;32m----> 8\u001b[0m     neighbors \u001b[38;5;241m=\u001b[39m \u001b[38;5;28msorted\u001b[39m(next_state(current), key \u001b[38;5;241m=\u001b[39m \u001b[38;5;28;01mlambda\u001b[39;00m x:\u001b[43meight_queens_heuristic\u001b[49m\u001b[43m(\u001b[49m\u001b[43mx\u001b[49m\u001b[43m)\u001b[49m)\n\u001b[1;32m      9\u001b[0m     best_neighbor \u001b[38;5;241m=\u001b[39m neighbors[\u001b[38;5;241m0\u001b[39m]\n\u001b[1;32m     10\u001b[0m     best_neighbor_h \u001b[38;5;241m=\u001b[39m eight_queens_heuristic(best_neighbor)\n",
      "Cell \u001b[0;32mIn[4], line 16\u001b[0m, in \u001b[0;36meight_queens_heuristic\u001b[0;34m(state)\u001b[0m\n\u001b[1;32m     14\u001b[0m \u001b[38;5;28;01mif\u001b[39;00m state[i] \u001b[38;5;241m==\u001b[39m state[j] \u001b[38;5;241m+\u001b[39m (j \u001b[38;5;241m-\u001b[39m i):\n\u001b[1;32m     15\u001b[0m     h \u001b[38;5;241m+\u001b[39m\u001b[38;5;241m=\u001b[39m \u001b[38;5;241m1\u001b[39m\n\u001b[0;32m---> 16\u001b[0m     \u001b[38;5;28;01mcontinue\u001b[39;00m\n\u001b[1;32m     17\u001b[0m \u001b[38;5;28;01mif\u001b[39;00m state[i] \u001b[38;5;241m==\u001b[39m state[j] \u001b[38;5;241m-\u001b[39m (j \u001b[38;5;241m-\u001b[39m i):\n\u001b[1;32m     18\u001b[0m     h \u001b[38;5;241m+\u001b[39m\u001b[38;5;241m=\u001b[39m \u001b[38;5;241m1\u001b[39m\n",
      "\u001b[0;31mKeyboardInterrupt\u001b[0m: "
     ]
    }
   ],
   "source": [
    "qRes = 0\n",
    "qFail = 0\n",
    "stepsRes = 0\n",
    "stepsFail = 0\n",
    "for i in range(100):\n",
    "    state = np.random.randint(1, 9, 8)\n",
    "    solution, steps = hill_climbing_width_lateral(state, 3)\n",
    "    if eight_queens_heuristic(solution) == 0:\n",
    "        qRes += 1\n",
    "        stepsRes += steps\n",
    "    else:\n",
    "        qFail += 1\n",
    "        stepsFail += steps\n",
    "if qRes > 0:\n",
    "    print(\"Soluções encontradas: \", qRes, \" em média em \", stepsRes/qRes, \" passos\")\n",
    "if qFail > 0:\n",
    "    print(\"Falhas: \", qFail, \" em média em \", stepsFail/qFail, \" passos\")"
   ]
  }
 ],
 "metadata": {
  "kernelspec": {
   "display_name": "cet068IA",
   "language": "python",
   "name": "python3"
  },
  "language_info": {
   "codemirror_mode": {
    "name": "ipython",
    "version": 3
   },
   "file_extension": ".py",
   "mimetype": "text/x-python",
   "name": "python",
   "nbconvert_exporter": "python",
   "pygments_lexer": "ipython3",
   "version": "3.10.14"
  }
 },
 "nbformat": 4,
 "nbformat_minor": 5
}
