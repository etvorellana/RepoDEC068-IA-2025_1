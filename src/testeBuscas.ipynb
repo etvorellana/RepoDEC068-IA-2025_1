{
 "cells": [
  {
   "cell_type": "markdown",
   "id": "f20f0c0d",
   "metadata": {},
   "source": [
    "# The problem\n",
    "\n",
    "![Arad to Bucharest](Arad2Bucarest.png \"Arad to Bucarest road map\")."
   ]
  },
  {
   "cell_type": "code",
   "execution_count": 1,
   "id": "f463f07e",
   "metadata": {},
   "outputs": [
    {
     "name": "stdout",
     "output_type": "stream",
     "text": [
      "0-Arad\n",
      "1-Zerind\n",
      "2-Oradea\n",
      "3-Sibiu\n",
      "4-Timisoara\n",
      "5-Lugoj\n",
      "6-Mehadia\n",
      "7-Drobeta\n",
      "8-Craiova\n",
      "9-Rimnicu Vilcea\n",
      "10-Fagaras\n",
      "11-Pitesti\n",
      "12-Bucharest\n",
      "13-Giurgiu\n",
      "14-Urziceni\n",
      "15-Hirsova\n",
      "16-Eforie\n",
      "17-Vaslui\n",
      "18-Iasi\n",
      "19-Neamt\n"
     ]
    }
   ],
   "source": [
    "from busca import states\n",
    "for index,state in enumerate(states):\n",
    "    print(f\"{index}-{state}\")"
   ]
  },
  {
   "cell_type": "code",
   "execution_count": 2,
   "id": "a1c6e384",
   "metadata": {},
   "outputs": [
    {
     "name": "stdout",
     "output_type": "stream",
     "text": [
      "Initial: Arad\n",
      "Goal: Bucharest\n"
     ]
    }
   ],
   "source": [
    "initial = \"Arad\"\n",
    "goal = \"Bucharest\"\n",
    "if initial in states and goal in states:\n",
    "    print(f\"Initial: {initial}\")\n",
    "    print(f\"Goal: {goal}\")"
   ]
  },
  {
   "cell_type": "code",
   "execution_count": 3,
   "id": "ee6e676d",
   "metadata": {},
   "outputs": [
    {
     "name": "stdout",
     "output_type": "stream",
     "text": [
      "Arad toZerind Arad toSibiu Arad toTimisoara \n",
      "Zerind toArad Zerind toOradea \n",
      "Oradea toZerind Oradea toSibiu \n",
      "Sibiu toArad Sibiu toOradea Sibiu toFagaras Sibiu toRimnicu Vilcea \n",
      "Timisoara toArad Timisoara toLugoj \n",
      "Lugoj toTimisoara Lugoj toMehadia \n",
      "Mehadia toLugoj Mehadia toDrobeta \n",
      "Drobeta toMehadia Drobeta toCraiova \n",
      "Craiova toDrobeta Craiova toRimnicu Vilcea Craiova toPitesti \n",
      "Rimnicu Vilcea toSibiu Rimnicu Vilcea toCraiova Rimnicu Vilcea toPitesti \n",
      "Fagaras toSibiu Fagaras toBucharest \n",
      "Pitesti toRimnicu Vilcea Pitesti toCraiova Pitesti toBucharest \n",
      "Bucharest toFagaras Bucharest toPitesti Bucharest toGiurgiu Bucharest toUrziceni \n",
      "Giurgiu toBucharest \n",
      "Urziceni toBucharest Urziceni toHirsova Urziceni toVaslui \n",
      "Hirsova toUrziceni Hirsova toEforie \n",
      "Eforie toHirsova \n",
      "Vaslui toUrziceni Vaslui toIasi \n",
      "Iasi toVaslui Iasi toNeamt \n",
      "Neamt toIasi \n"
     ]
    }
   ],
   "source": [
    "from busca import actions\n",
    "for state, actions_ in actions.items():\n",
    "    for action in actions_:\n",
    "        print(f\"{state} {action}\", end=\" \")\n",
    "    print()"
   ]
  },
  {
   "cell_type": "code",
   "execution_count": 4,
   "id": "8c749e08",
   "metadata": {},
   "outputs": [
    {
     "name": "stdout",
     "output_type": "stream",
     "text": [
      "Arad: toZerind -> Zerind toSibiu -> Sibiu toTimisoara -> Timisoara \n",
      "Zerind: toArad -> Arad toOradea -> Oradea \n",
      "Oradea: toZerind -> Zerind toSibiu -> Sibiu \n",
      "Sibiu: toArad -> Arad toOradea -> Oradea toFagaras -> Fagaras toRimnicu Vilcea -> Rimnicu Vilcea \n",
      "Timisoara: toArad -> Arad toLugoj -> Lugoj \n",
      "Lugoj: toTimisoara -> Timisoara toMehadia -> Mehadia \n",
      "Mehadia: toLugoj -> Lugoj toDrobeta -> Drobeta \n",
      "Drobeta: toMehadia -> Mehadia toCraiova -> Craiova \n",
      "Craiova: toDrobeta -> Drobeta toRimnicu Vilcea -> Rimnicu Vilcea toPitesti -> Pitesti \n",
      "Rimnicu Vilcea: toSibiu -> Sibiu toCraiova -> Craiova toPitesti -> Pitesti \n",
      "Fagaras: toSibiu -> Sibiu toBucharest -> Bucharest \n",
      "Pitesti: toRimnicu Vilcea -> Rimnicu Vilcea toCraiova -> Craiova toBucharest -> Bucharest \n",
      "Bucharest: toFagaras -> Fagaras toPitesti -> Pitesti toGiurgiu -> Giurgiu toUrziceni -> Urziceni \n",
      "Giurgiu: toBucharest -> Bucharest \n",
      "Urziceni: toBucharest -> Bucharest toHirsova -> Hirsova toVaslui -> Vaslui \n",
      "Hirsova: toUrziceni -> Urziceni toEforie -> Eforie \n",
      "Eforie: toHirsova -> Hirsova \n",
      "Vaslui: toUrziceni -> Urziceni toIasi -> Iasi \n",
      "Iasi: toVaslui -> Vaslui toNeamt -> Neamt \n",
      "Neamt: toIasi -> Iasi \n"
     ]
    }
   ],
   "source": [
    "from busca import transition_model\n",
    "for state,model in transition_model.items():\n",
    "    print(f\"{state}:\", end=\" \")\n",
    "    for action, result in model.items():\n",
    "        print(f\"{action} -> {result}\", end=\" \")\n",
    "    print()"
   ]
  },
  {
   "cell_type": "code",
   "execution_count": 5,
   "id": "d83cbe82",
   "metadata": {},
   "outputs": [
    {
     "name": "stdout",
     "output_type": "stream",
     "text": [
      "Arad: Zerind: 75 Sibiu: 140 Timisoara: 118 \n",
      "Zerind: Arad: 75 Oradea: 71 \n",
      "Oradea: Zerind: 71 Sibiu: 151 \n",
      "Sibiu: Arad: 140 Oradea: 151 Fagaras: 99 Rimnicu Vilcea: 80 \n",
      "Timisoara: Arad: 118 Lugoj: 111 \n",
      "Lugoj: Timisoara: 111 Mehadia: 70 \n",
      "Mehadia: Lugoj: 70 Drobeta: 75 \n",
      "Drobeta: Mehadia: 75 Craiova: 120 \n",
      "Craiova: Drobeta: 120 Rimnicu Vilcea: 146 Pitesti: 138 \n",
      "Rimnicu Vilcea: Sibiu: 80 Craiova: 146 Pitesti: 97 \n",
      "Fagaras: Sibiu: 99 Bucharest: 211 \n",
      "Pitesti: Rimnicu Vilcea: 97 Craiova: 138 Bucharest: 101 \n",
      "Bucharest: Fagaras: 211 Pitesti: 101 Giurgiu: 90 Urziceni: 85 \n",
      "Giurgiu: Bucharest: 90 \n",
      "Urziceni: Bucharest: 85 Hirsova: 98 Vaslui: 142 \n",
      "Hirsova: Urziceni: 98 Eforie: 86 \n",
      "Eforie: Hirsova: 86 \n",
      "Vaslui: Urziceni: 142 Iasi: 92 \n",
      "Iasi: Vaslui: 92 Neamt: 87 \n",
      "Neamt: Iasi: 87 \n"
     ]
    }
   ],
   "source": [
    "from busca import cost \n",
    "for state, dests in cost.items():\n",
    "    print(f\"{state}:\", end=\" \")\n",
    "    for dest, cost_ in dests.items():\n",
    "        print(f\"{dest}: {cost_}\", end=\" \")\n",
    "    print()"
   ]
  },
  {
   "cell_type": "code",
   "execution_count": 6,
   "id": "761c1259",
   "metadata": {},
   "outputs": [],
   "source": [
    "from busca import Problem\n",
    "# Define the problem\n",
    "Arad2Bucarest = Problem(states, initial, goal, actions, transition_model, cost)"
   ]
  },
  {
   "cell_type": "markdown",
   "id": "c7514af7",
   "metadata": {},
   "source": [
    "# Uninformed Search Strategies\n",
    "\n",
    "## Breadth-first search\n",
    "\n",
    "* This is a systematic search strategy that is therefore complete even on infinite state spaces.\n",
    "\n",
    "* We could implement breadth-first search as a call to BEST-FIRST-SEARCH where the evaluation function $f(n)$ is the depth of the node—that is, the number of actions it takes to reach the node."
   ]
  },
  {
   "cell_type": "code",
   "execution_count": 7,
   "id": "30ab6f89",
   "metadata": {},
   "outputs": [
    {
     "name": "stdout",
     "output_type": "stream",
     "text": [
      "Breadth-first search (Arad -> Bucharest):\n",
      "Frontier: Arad \n",
      "1 - Arad 0 1\n",
      "Frontier: Zerind Sibiu Timisoara \n",
      "2 - Zerind 75 2\n",
      "Frontier: Sibiu Timisoara Oradea \n",
      "3 - Sibiu 140 2\n",
      "Frontier: Timisoara Oradea Fagaras Rimnicu Vilcea \n",
      "4 - Timisoara 118 2\n",
      "Frontier: Oradea Fagaras Rimnicu Vilcea Lugoj \n",
      "5 - Oradea 146 3\n",
      "Frontier: Fagaras Rimnicu Vilcea Lugoj \n",
      "6 - Fagaras 239 3\n",
      "Frontier: Rimnicu Vilcea Lugoj Bucharest \n",
      "7 - Rimnicu Vilcea 220 3\n",
      "Frontier: Lugoj Bucharest Craiova Pitesti \n",
      "8 - Lugoj 229 3\n",
      "Frontier: Bucharest Craiova Pitesti Mehadia \n",
      "Bucharest 450\n",
      "__________________________\n",
      "Solution:\n",
      "Arad 0\n",
      "Sibiu 140\n",
      "Fagaras 239\n",
      "Bucharest 450\n",
      "__________________________\n"
     ]
    }
   ],
   "source": [
    "from busca import BestFirstSearch, depth\n",
    "# Perform a search\n",
    "bfs_depth = BestFirstSearch(Arad2Bucarest, depth)\n",
    "\n",
    "print(\"Breadth-first search (Arad -> Bucharest):\")\n",
    "node = bfs_depth.search()\n",
    "print(node.state, node.path_cost)\n",
    "print(\"__________________________\")\n",
    "print(\"Solution:\")\n",
    "for step in bfs_depth.path(node):\n",
    "    print(step.state, step.path_cost)\n",
    "print(\"__________________________\")"
   ]
  },
  {
   "cell_type": "markdown",
   "id": "24579426",
   "metadata": {},
   "source": [
    "![Breadth-first search](Breadth-first_search.png \"Breadth-first search tree\")"
   ]
  },
  {
   "cell_type": "code",
   "execution_count": 11,
   "id": "0c44c7cd",
   "metadata": {},
   "outputs": [
    {
     "name": "stdout",
     "output_type": "stream",
     "text": [
      "Best-first search (Arad -> Bucharest):\n",
      "Frontier: Arad \n",
      "1 - Arad 0 0\n",
      "Frontier: Zerind Timisoara Sibiu \n",
      "2 - Zerind 75 75\n",
      "Frontier: Timisoara Sibiu Oradea \n",
      "3 - Timisoara 118 118\n",
      "Frontier: Sibiu Oradea Lugoj \n",
      "4 - Sibiu 140 140\n",
      "Frontier: Oradea Rimnicu Vilcea Lugoj Fagaras \n",
      "5 - Oradea 146 146\n",
      "Frontier: Rimnicu Vilcea Lugoj Fagaras \n",
      "6 - Rimnicu Vilcea 220 220\n",
      "Frontier: Lugoj Fagaras Pitesti Craiova \n",
      "7 - Lugoj 229 229\n",
      "Frontier: Fagaras Mehadia Pitesti Craiova \n",
      "8 - Fagaras 239 239\n",
      "Frontier: Mehadia Pitesti Craiova Bucharest \n",
      "9 - Mehadia 299 299\n",
      "Frontier: Pitesti Craiova Drobeta Bucharest \n",
      "10 - Pitesti 317 317\n",
      "Frontier: Craiova Drobeta Bucharest Bucharest \n",
      "11 - Craiova 366 366\n",
      "Frontier: Drobeta Bucharest Bucharest \n",
      "12 - Drobeta 374 374\n",
      "Frontier: Bucharest Bucharest \n",
      "Bucharest 418\n",
      "__________________________\n",
      "Solution:\n",
      "Arad 0\n",
      "Sibiu 140\n",
      "Rimnicu Vilcea 220\n",
      "Pitesti 317\n",
      "Bucharest 418\n",
      "__________________________\n"
     ]
    }
   ],
   "source": [
    "# Perform a search\n",
    "bestFS = BestFirstSearch(Arad2Bucarest, lambda node: node.path_cost)\n",
    "\n",
    "print(\"Best-first search (Arad -> Bucharest):\")\n",
    "node = bestFS.search()\n",
    "print(node.state, node.path_cost)\n",
    "print(\"__________________________\")\n",
    "print(\"Solution:\")\n",
    "for step in bestFS.path(node):\n",
    "    print(step.state, step.path_cost)\n",
    "print(\"__________________________\")"
   ]
  },
  {
   "cell_type": "markdown",
   "id": "e8729557",
   "metadata": {},
   "source": [
    "However, we can get additional efficiency with a couple of tricks. \n",
    "* A first-in-first-out queue will be faster than a priority queue, and will give us the correct order of nodes: new nodes (which are always deeper than their parents) go to the back of the queue, and old nodes, which are shallower than the new nodes, get expanded first. \n",
    "* Reached can be a set of states rather than a mapping from states to nodes, because once we’ve reached a state, we can never find a better path to the state. That also means we can do an early goal test, checking whether a node is a solution as soon as it is generated, rather than the late goal test that best-first search uses, waiting until a node is popped off the queue. "
   ]
  },
  {
   "cell_type": "code",
   "execution_count": 12,
   "id": "cdca8b77",
   "metadata": {},
   "outputs": [
    {
     "name": "stdout",
     "output_type": "stream",
     "text": [
      "__________________________\n",
      "Breadth-First Search (Arad -> Bucharest):\n",
      "Frontier: Arad \n",
      "1 - Arad 0 1\n",
      "Frontier: Zerind Sibiu Timisoara \n",
      "2 - Zerind 75 2\n",
      "Frontier: Sibiu Timisoara Oradea \n",
      "3 - Sibiu 140 2\n",
      "Frontier: Timisoara Oradea Fagaras Rimnicu Vilcea \n",
      "4 - Timisoara 118 2\n",
      "Frontier: Oradea Fagaras Rimnicu Vilcea Lugoj \n",
      "5 - Oradea 146 3\n",
      "Frontier: Fagaras Rimnicu Vilcea Lugoj \n",
      "6 - Fagaras 239 3\n",
      "Frontier: Rimnicu Vilcea Lugoj Bucharest \n",
      "7 - Rimnicu Vilcea 220 3\n",
      "Frontier: Lugoj Bucharest Craiova Pitesti \n",
      "8 - Lugoj 229 3\n",
      "Frontier: Bucharest Craiova Pitesti Mehadia \n",
      "Bucharest 450\n",
      "__________________________\n",
      "Solution:\n",
      "Arad 0\n",
      "Sibiu 140\n",
      "Fagaras 239\n",
      "Bucharest 450\n"
     ]
    }
   ],
   "source": [
    "from busca import BreadthFirstSearch\n",
    "print(\"__________________________\")\n",
    "print(\"Breadth-First Search (Arad -> Bucharest):\")\n",
    "bfs_fifo = BreadthFirstSearch(Arad2Bucarest)\n",
    "node = bfs_fifo.search()\n",
    "print(node.state, node.path_cost)\n",
    "print(\"__________________________\")\n",
    "print(\"Solution:\")\n",
    "for step in bfs_fifo.path(node):\n",
    "    print(step.state, step.path_cost)"
   ]
  },
  {
   "cell_type": "markdown",
   "id": "46182a00",
   "metadata": {},
   "source": [
    "![Breadth-first search](Breadth-first_search_FIFOQueue.png \"Breadth-first search tree\")."
   ]
  },
  {
   "cell_type": "markdown",
   "id": "be96510d",
   "metadata": {},
   "source": [
    "## Depth-first search and the problem of memory\n",
    "\n",
    "* Depth-first search always expands the deepest node in the frontier first.\n",
    "* It could be implemented as a call to BEST-FIRST-SEARCH where the evaluation function f is the negative of the depth."
   ]
  },
  {
   "cell_type": "code",
   "execution_count": 13,
   "id": "a031fdc5",
   "metadata": {},
   "outputs": [
    {
     "name": "stdout",
     "output_type": "stream",
     "text": [
      "Depth-first search (Arad -> Bucharest):\n",
      "Frontier: Arad \n",
      "1 - Arad 0 -1\n",
      "Frontier: Zerind Sibiu Timisoara \n",
      "2 - Zerind 75 -2\n",
      "Frontier: Oradea Sibiu Timisoara \n",
      "3 - Oradea 146 -3\n",
      "Frontier: Sibiu Timisoara \n",
      "4 - Sibiu 140 -2\n",
      "Frontier: Fagaras Rimnicu Vilcea Timisoara \n",
      "5 - Fagaras 239 -3\n",
      "Frontier: Bucharest Rimnicu Vilcea Timisoara \n",
      "Bucharest 450\n",
      "__________________________\n",
      "Solution:\n",
      "Arad 0\n",
      "Sibiu 140\n",
      "Fagaras 239\n",
      "Bucharest 450\n",
      "__________________________\n"
     ]
    }
   ],
   "source": [
    "from busca import n_depth\n",
    "# Perform a search\n",
    "dfs_ndepth = BestFirstSearch(Arad2Bucarest, n_depth)\n",
    "\n",
    "print(\"Depth-first search (Arad -> Bucharest):\")\n",
    "node = dfs_ndepth.search()\n",
    "if node is None:\n",
    "    print(\"No solution found\")\n",
    "else:\n",
    "    print(node.state, node.path_cost)\n",
    "    print(\"__________________________\")\n",
    "    print(\"Solution:\")\n",
    "    for step in dfs_ndepth.path(node):\n",
    "        print(step.state, step.path_cost)\n",
    "print(\"__________________________\")"
   ]
  },
  {
   "cell_type": "markdown",
   "id": "b86659f0",
   "metadata": {},
   "source": [
    "* However, it is usually implemented not as a graph search but as a tree-like search that does not keep a table of reached states."
   ]
  },
  {
   "cell_type": "code",
   "execution_count": 14,
   "id": "bdbeb6a9",
   "metadata": {},
   "outputs": [
    {
     "name": "stdout",
     "output_type": "stream",
     "text": [
      "__________________________\n",
      "Depth-First Search (Arad -> Bucharest):\n",
      "Frontier: Arad \n",
      "1 - Arad 0 -1\n",
      "Frontier: Zerind Sibiu Timisoara \n",
      "2 - Zerind 75 -2\n",
      "Frontier: Oradea Sibiu Timisoara \n",
      "3 - Oradea 146 -3\n",
      "Frontier: Sibiu Sibiu Timisoara \n",
      "4 - Sibiu 297 -4\n",
      "Frontier: Arad Fagaras Rimnicu Vilcea Sibiu Timisoara \n",
      "5 - Arad 437 -5\n",
      "Frontier: Zerind Timisoara Fagaras Rimnicu Vilcea Sibiu Timisoara \n",
      "6 - Zerind 512 -6\n",
      "Frontier: Oradea Timisoara Fagaras Rimnicu Vilcea Sibiu Timisoara \n",
      "7 - Oradea 583 -7\n",
      "Frontier: Sibiu Timisoara Fagaras Rimnicu Vilcea Sibiu Timisoara \n",
      "8 - Sibiu 734 -8\n",
      "Frontier: Arad Fagaras Rimnicu Vilcea Timisoara Fagaras Rimnicu Vilcea Sibiu Timisoara \n",
      "9 - Arad 874 -9\n",
      "Frontier: Zerind Timisoara Fagaras Rimnicu Vilcea Timisoara Fagaras Rimnicu Vilcea Sibiu Timisoara \n",
      "10 - Zerind 949 -10\n",
      "Frontier: Oradea Timisoara Fagaras Rimnicu Vilcea Timisoara Fagaras Rimnicu Vilcea Sibiu Timisoara \n",
      "11 - Oradea 1020 -11\n",
      "Frontier: Sibiu Timisoara Fagaras Rimnicu Vilcea Timisoara Fagaras Rimnicu Vilcea Sibiu Timisoara \n",
      "12 - Sibiu 1171 -12\n",
      "Frontier: Arad Fagaras Rimnicu Vilcea Timisoara Fagaras Rimnicu Vilcea Timisoara Fagaras Rimnicu Vilcea Sibiu Timisoara \n",
      "13 - Arad 1311 -13\n",
      "Frontier: Zerind Timisoara Fagaras Rimnicu Vilcea Timisoara Fagaras Rimnicu Vilcea Timisoara Fagaras Rimnicu Vilcea Sibiu Timisoara \n",
      "14 - Zerind 1386 -14\n",
      "Frontier: Oradea Timisoara Fagaras Rimnicu Vilcea Timisoara Fagaras Rimnicu Vilcea Timisoara Fagaras Rimnicu Vilcea Sibiu Timisoara \n",
      "15 - Oradea 1457 -15\n",
      "Frontier: Sibiu Timisoara Fagaras Rimnicu Vilcea Timisoara Fagaras Rimnicu Vilcea Timisoara Fagaras Rimnicu Vilcea Sibiu Timisoara \n",
      "16 - Sibiu 1608 -16\n",
      "Frontier: Arad Fagaras Rimnicu Vilcea Timisoara Fagaras Rimnicu Vilcea Timisoara Fagaras Rimnicu Vilcea Timisoara Fagaras Rimnicu Vilcea Sibiu Timisoara \n",
      "17 - Arad 1748 -17\n",
      "Frontier: Zerind Timisoara Fagaras Rimnicu Vilcea Timisoara Fagaras Rimnicu Vilcea Timisoara Fagaras Rimnicu Vilcea Timisoara Fagaras Rimnicu Vilcea Sibiu Timisoara \n",
      "18 - Zerind 1823 -18\n",
      "Frontier: Oradea Timisoara Fagaras Rimnicu Vilcea Timisoara Fagaras Rimnicu Vilcea Timisoara Fagaras Rimnicu Vilcea Timisoara Fagaras Rimnicu Vilcea Sibiu Timisoara \n",
      "19 - Oradea 1894 -19\n",
      "Frontier: Sibiu Timisoara Fagaras Rimnicu Vilcea Timisoara Fagaras Rimnicu Vilcea Timisoara Fagaras Rimnicu Vilcea Timisoara Fagaras Rimnicu Vilcea Sibiu Timisoara \n",
      "20 - Sibiu 2045 -20\n",
      "Frontier: Arad Fagaras Rimnicu Vilcea Timisoara Fagaras Rimnicu Vilcea Timisoara Fagaras Rimnicu Vilcea Timisoara Fagaras Rimnicu Vilcea Timisoara Fagaras Rimnicu Vilcea Sibiu Timisoara \n",
      "No solution found\n",
      "__________________________\n"
     ]
    }
   ],
   "source": [
    "from busca import DepthFirstSearch, Node\n",
    "print(\"__________________________\")\n",
    "print(\"Depth-First Search (Arad -> Bucharest):\")\n",
    "dfs_ndepth = DepthFirstSearch(Arad2Bucarest)\n",
    "node = dfs_ndepth.search()\n",
    "if node is None:\n",
    "    print(\"No solution found\")\n",
    "else:\n",
    "    print(node.state, node.path_cost)\n",
    "    print(\"__________________________\")\n",
    "    print(\"Solution:\")\n",
    "    for step in dfs_ndepth.path(node):\n",
    "        print(step.state, step.path_cost)\n",
    "print(\"__________________________\")"
   ]
  },
  {
   "cell_type": "markdown",
   "id": "3e1472b6",
   "metadata": {},
   "source": [
    "* In cyclic state spaces it can get stuck in an infinite loop; therefore some implementations\n",
    "of depth-first search check each new node for cycles."
   ]
  },
  {
   "cell_type": "code",
   "execution_count": 15,
   "id": "ebd8de52",
   "metadata": {},
   "outputs": [
    {
     "name": "stdout",
     "output_type": "stream",
     "text": [
      "__________________________\n",
      "Depth-First Search (Arad -> Bucharest):\n",
      "Frontier: Arad \n",
      "1 - Arad 0 -1\n",
      "Frontier: Zerind Sibiu Timisoara \n",
      "2 - Zerind 75 -2\n",
      "Frontier: Oradea Sibiu Timisoara \n",
      "3 - Oradea 146 -3\n",
      "Frontier: Sibiu Sibiu Timisoara \n",
      "4 - Sibiu 297 -4\n",
      "Frontier: Fagaras Rimnicu Vilcea Sibiu Timisoara \n",
      "5 - Fagaras 396 -5\n",
      "Frontier: Bucharest Rimnicu Vilcea Sibiu Timisoara \n",
      "Bucharest 607\n",
      "__________________________\n",
      "Solution:\n",
      "Arad 0\n",
      "Zerind 75\n",
      "Oradea 146\n",
      "Sibiu 297\n",
      "Fagaras 396\n",
      "Bucharest 607\n",
      "__________________________\n"
     ]
    }
   ],
   "source": [
    "from busca import DepthFirstSearchNoCycles\n",
    "print(\"__________________________\")\n",
    "print(\"Depth-First Search (Arad -> Bucharest):\")\n",
    "dfs_ndepth_nc = DepthFirstSearchNoCycles(Arad2Bucarest)\n",
    "node = dfs_ndepth_nc.search()\n",
    "if node is None:\n",
    "    print(\"No solution found\")\n",
    "else:\n",
    "    print(node.state, node.path_cost)\n",
    "    print(\"__________________________\")\n",
    "    print(\"Solution:\")\n",
    "    for step in dfs_ndepth_nc.path(node):\n",
    "        print(step.state, step.path_cost)\n",
    "print(\"__________________________\")"
   ]
  },
  {
   "cell_type": "markdown",
   "id": "8be69df1",
   "metadata": {},
   "source": [
    "* In infinite state spaces, depth-first search is not systematic: it can get stuck going down an infinite path, even if there are no cycles. Thus, depth-first search is incomplete."
   ]
  },
  {
   "cell_type": "markdown",
   "id": "c3bb1af0",
   "metadata": {},
   "source": [
    "## Depth-limited and iterative deepening search\n",
    "\n",
    "* To keep depth-first search from wandering down an infinite path, we can use depth-limited search, a version of depth-first search in which we supply a depth limit, $l$, and treat all nodes at depth $l$ as if they had no successors\n",
    "* Sometimes a good depth limit can be chosen based on knowledge of the problem. For example, on the map of Romania there are 20 cities. Therefore, ℓ= 19 is a valid limit. \n",
    "* But if we studied the map carefully, we would discover that any city can be reached from any other city in at most 9 actions. This number, known as the diameter of the state-space graph, gives us a better depth limit, which leads to a more efficient depth-limited search. However, for most problems we will not know a good depth limit until we have solved the problem."
   ]
  },
  {
   "cell_type": "code",
   "execution_count": 19,
   "id": "81defa89",
   "metadata": {},
   "outputs": [
    {
     "name": "stdout",
     "output_type": "stream",
     "text": [
      "Depth Limited search N = 5(Arad -> Bucharest):\n",
      "1 - Arad 0 1\n",
      "2 - Timisoara 118 2\n",
      "3 - Lugoj 229 3\n",
      "4 - Mehadia 299 4\n",
      "5 - Drobeta 374 5\n",
      "6 - Sibiu 140 2\n",
      "7 - Rimnicu Vilcea 220 3\n",
      "8 - Pitesti 317 4\n",
      "Bucharest 418\n",
      "__________________________\n",
      "Solution:\n",
      "Arad 0\n",
      "Sibiu 140\n",
      "Rimnicu Vilcea 220\n",
      "Pitesti 317\n",
      "Bucharest 418\n"
     ]
    }
   ],
   "source": [
    "from busca import DepthLimitedSearch\n",
    "dfs_lim = DepthLimitedSearch(Arad2Bucarest)\n",
    "limit = 5\n",
    "print(f\"Depth Limited search N = {limit}(Arad -> Bucharest):\")\n",
    "node = dfs_lim.search(limit)\n",
    "if node and isinstance(node, Node):\n",
    "    print(node.state, node.path_cost)\n",
    "    print(\"__________________________\")\n",
    "    print(\"Solution:\")\n",
    "    for step in dfs_lim.path(node):\n",
    "        print(step.state, step.path_cost)\n",
    "elif node and node == 'cutoff':\n",
    "    print(\"Solution not found with this depth limit\")\n",
    "else:\n",
    "    print(\"Solution not found\")"
   ]
  },
  {
   "cell_type": "markdown",
   "id": "be64d763",
   "metadata": {},
   "source": [
    "### Iterative deepening search\n",
    "\n",
    "* Solves the problem of picking a good value for ℓby trying all values: first 0, then 1, then 2, and so on—until either a solution is found, or the depth-limited search returns the failure value rather than the cutoff value."
   ]
  },
  {
   "cell_type": "code",
   "execution_count": 20,
   "id": "5b0eba8d",
   "metadata": {},
   "outputs": [
    {
     "name": "stdout",
     "output_type": "stream",
     "text": [
      "Depth Limited search N = 5(Arad -> Bucharest):\n",
      "\n",
      "Depth: 0\n",
      "__________________________\n",
      "1 - Arad 0 1\n",
      "\n",
      "Depth: 1\n",
      "__________________________\n",
      "1 - Arad 0 1\n",
      "\n",
      "Depth: 2\n",
      "__________________________\n",
      "1 - Arad 0 1\n",
      "2 - Timisoara 118 2\n",
      "3 - Sibiu 140 2\n",
      "4 - Zerind 75 2\n",
      "\n",
      "Depth: 3\n",
      "__________________________\n",
      "1 - Arad 0 1\n",
      "2 - Timisoara 118 2\n",
      "3 - Lugoj 229 3\n",
      "4 - Sibiu 140 2\n",
      "5 - Rimnicu Vilcea 220 3\n",
      "6 - Fagaras 239 3\n",
      "7 - Oradea 291 3\n",
      "8 - Zerind 75 2\n",
      "9 - Oradea 146 3\n",
      "\n",
      "Depth: 4\n",
      "__________________________\n",
      "1 - Arad 0 1\n",
      "2 - Timisoara 118 2\n",
      "3 - Lugoj 229 3\n",
      "4 - Mehadia 299 4\n",
      "5 - Sibiu 140 2\n",
      "6 - Rimnicu Vilcea 220 3\n",
      "7 - Pitesti 317 4\n",
      "8 - Craiova 366 4\n",
      "9 - Fagaras 239 3\n",
      "Bucharest 450\n",
      "__________________________\n",
      "Solution:\n",
      "Arad 0\n",
      "Sibiu 140\n",
      "Fagaras 239\n",
      "Bucharest 450\n"
     ]
    }
   ],
   "source": [
    "from busca import IterativeDeepeningSearch\n",
    "dfs_limIter = IterativeDeepeningSearch(Arad2Bucarest)\n",
    "print(f\"Depth Limited search N = {limit}(Arad -> Bucharest):\")\n",
    "node = dfs_limIter.search()\n",
    "if node and isinstance(node, Node):\n",
    "    print(node.state, node.path_cost)\n",
    "    print(\"__________________________\")\n",
    "    print(\"Solution:\")\n",
    "    for step in dfs_limIter.path(node):\n",
    "        print(step.state, step.path_cost)\n",
    "else:\n",
    "    print(\"Solution not found\")"
   ]
  },
  {
   "cell_type": "markdown",
   "id": "7311fd75",
   "metadata": {},
   "source": [
    "## Bidirectional search\n",
    "\n",
    "* Simultaneously searches forward from the initial state and backwards from the goal state(s), hoping that the two searches will meet."
   ]
  },
  {
   "cell_type": "code",
   "execution_count": 21,
   "id": "47f91d5a",
   "metadata": {},
   "outputs": [
    {
     "name": "stdout",
     "output_type": "stream",
     "text": [
      "Bidirectional Best First Search (Arad -> Bucharest):\n",
      "Expanding backward\n",
      "Bucharest 0 1\n",
      "Expanding forward\n",
      "Arad 0 1\n",
      "Expanding forward\n",
      "Zerind 75 2\n",
      "Expanding backward\n",
      "Urziceni 85 2\n",
      "Expanding backward\n",
      "Giurgiu 90 2\n",
      "Expanding backward\n",
      "Pitesti 101 2\n",
      "Expanding forward\n",
      "Timisoara 118 2\n",
      "Expanding forward\n",
      "Sibiu 140 2\n",
      "Solution found: Rimnicu Vilcea Rimnicu Vilcea\n",
      "__________________________\n",
      "Solution:\n",
      "Arad 0\n",
      "Sibiu 140\n",
      "Rimnicu Vilcea 220\n",
      "Pitesti 101\n",
      "Bucharest 0\n"
     ]
    }
   ],
   "source": [
    "from busca import BidirectionalBestFirstSearch\n",
    "#Arad2Bucarest = Problem(states, initial, goal, actions, transition_model, cost)\n",
    "Bucarest2Arad = Problem(states, goal, initial, actions, transition_model, cost)\n",
    "bdbfs = BidirectionalBestFirstSearch(Arad2Bucarest, lambda node: node.path_cost, \n",
    "                                         Bucarest2Arad, lambda node: node.path_cost)\n",
    "print(\"Bidirectional Best First Search (Arad -> Bucharest):\")\n",
    "node = bdbfs.search()\n",
    "if node and isinstance(node[0], Node):\n",
    "    print(\"__________________________\")\n",
    "    print(\"Solution:\")\n",
    "    for step in bdbfs.path(node):\n",
    "        print(step.state, step.path_cost)\n",
    "else:\n",
    "    print(\"Solution not found\")"
   ]
  },
  {
   "cell_type": "markdown",
   "id": "52e7649b",
   "metadata": {},
   "source": [
    "# Informed (Heuristic) Search Strategies\n",
    "\n",
    "## Greedy best-first search"
   ]
  },
  {
   "cell_type": "code",
   "execution_count": 22,
   "id": "4630fda9",
   "metadata": {},
   "outputs": [
    {
     "name": "stdout",
     "output_type": "stream",
     "text": [
      "Greedy Best First Search (Arad -> Bucharest):\n",
      "Frontier: Arad \n",
      "1 - Arad 0 366\n",
      "Frontier: Sibiu Timisoara Zerind \n",
      "2 - Sibiu 140 253\n",
      "Frontier: Fagaras Rimnicu Vilcea Timisoara Zerind Oradea \n",
      "3 - Fagaras 239 176\n",
      "Frontier: Bucharest Rimnicu Vilcea Timisoara Zerind Oradea \n",
      "Bucharest 450\n",
      "__________________________\n",
      "Solution:\n",
      "Arad 0\n",
      "Sibiu 140\n",
      "Fagaras 239\n",
      "Bucharest 450\n"
     ]
    }
   ],
   "source": [
    "from busca import h_dlr\n",
    "gbestfs = BestFirstSearch(Arad2Bucarest, lambda node: h_dlr[node.state])\n",
    "print(\"Greedy Best First Search (Arad -> Bucharest):\")\n",
    "node = gbestfs.search()\n",
    "if node and isinstance(node, Node):\n",
    "    print(node.state, node.path_cost)\n",
    "    print(\"__________________________\")\n",
    "    print(\"Solution:\")\n",
    "    for step in gbestfs.path(node):\n",
    "        print(step.state, step.path_cost)\n",
    "else:\n",
    "    print(\"Solution not found\")\n",
    "\n"
   ]
  },
  {
   "cell_type": "markdown",
   "id": "31474189",
   "metadata": {},
   "source": [
    "## A∗ search"
   ]
  },
  {
   "cell_type": "code",
   "execution_count": 23,
   "id": "a5e9c5f0",
   "metadata": {},
   "outputs": [
    {
     "name": "stdout",
     "output_type": "stream",
     "text": [
      "A* Search (Arad -> Bucharest):\n",
      "Frontier: Arad \n",
      "1 - Arad 0 366\n",
      "Frontier: Sibiu Timisoara Zerind \n",
      "2 - Sibiu 140 393\n",
      "Frontier: Rimnicu Vilcea Fagaras Timisoara Zerind Oradea \n",
      "3 - Rimnicu Vilcea 220 413\n",
      "Frontier: Fagaras Pitesti Timisoara Zerind Craiova Oradea \n",
      "4 - Fagaras 239 415\n",
      "Frontier: Pitesti Timisoara Zerind Bucharest Craiova Oradea \n",
      "5 - Pitesti 317 417\n",
      "Frontier: Bucharest Timisoara Zerind Bucharest Craiova Oradea \n",
      "Bucharest 418\n",
      "__________________________\n",
      "Solution:\n",
      "Arad 0\n",
      "Sibiu 140\n",
      "Rimnicu Vilcea 220\n",
      "Pitesti 317\n",
      "Bucharest 418\n"
     ]
    }
   ],
   "source": [
    "astar = BestFirstSearch(Arad2Bucarest, lambda node: node.path_cost + h_dlr[node.state])\n",
    "print(\"A* Search (Arad -> Bucharest):\")\n",
    "node = astar.search()\n",
    "if node and isinstance(node, Node):\n",
    "    print(node.state, node.path_cost)\n",
    "    print(\"__________________________\")\n",
    "    print(\"Solution:\")\n",
    "    for step in astar.path(node):\n",
    "        print(step.state, step.path_cost)\n",
    "else:\n",
    "    print(\"Solution not found\")\n"
   ]
  }
 ],
 "metadata": {
  "kernelspec": {
   "display_name": "cet068IA",
   "language": "python",
   "name": "python3"
  },
  "language_info": {
   "codemirror_mode": {
    "name": "ipython",
    "version": 3
   },
   "file_extension": ".py",
   "mimetype": "text/x-python",
   "name": "python",
   "nbconvert_exporter": "python",
   "pygments_lexer": "ipython3",
   "version": "3.10.14"
  }
 },
 "nbformat": 4,
 "nbformat_minor": 5
}
